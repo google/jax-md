{
  "nbformat": 4,
  "nbformat_minor": 0,
  "metadata": {
    "colab": {
      "name": "Athermal_Linear_Elasticity.ipynb",
      "private_outputs": true,
      "provenance": [],
      "authorship_tag": "ABX9TyMYo/83mih0fEhntEAUsoyT",
      "include_colab_link": true
    },
    "kernelspec": {
      "name": "python3",
      "display_name": "Python 3"
    },
    "language_info": {
      "name": "python"
    },
    "accelerator": "GPU"
  },
  "cells": [
    {
      "cell_type": "markdown",
      "metadata": {
        "id": "view-in-github",
        "colab_type": "text"
      },
      "source": [
        "<a href=\"https://colab.research.google.com/github/cpgoodri/jax-md/blob/elasticity/notebooks/Athermal_Linear_Elasticity.ipynb\" target=\"_parent\"><img src=\"https://colab.research.google.com/assets/colab-badge.svg\" alt=\"Open In Colab\"/></a>"
      ]
    },
    {
      "cell_type": "code",
      "metadata": {
        "cellView": "form",
        "id": "jV9fYS55Vvml"
      },
      "source": [
        "#@title Imports and utility code\n",
        "!pip install https://github.com/cpgoodri/jax-md/archive/elasticity.zip\n",
        "\n",
        "import numpy as onp\n",
        "\n",
        "import jax.numpy as jnp\n",
        "from jax.config import config\n",
        "config.update('jax_enable_x64', True)\n",
        "\n",
        "from jax import random\n",
        "from jax import jit, lax, grad, vmap\n",
        "\n",
        "\n",
        "import jax.scipy as jsp\n",
        "\n",
        "from jax_md import space, energy, smap, minimize, util, elasticity, quantity\n",
        "from jax_md.colab_tools import renderer\n",
        "\n",
        "f32 = jnp.float32\n",
        "f64 = jnp.float64\n",
        "\n",
        "import matplotlib\n",
        "import matplotlib.pyplot as plt\n",
        "plt.rcParams.update({'font.size': 16})\n",
        "#import seaborn as sns \n",
        "#sns.set_style(style='white')\n",
        "\n",
        "def format_plot(x, y):  \n",
        "  plt.grid(True)\n",
        "  plt.xlabel(x, fontsize=20)\n",
        "  plt.ylabel(y, fontsize=20)\n",
        "  \n",
        "def finalize_plot(shape=(1, 0.7)):\n",
        "  plt.gcf().set_size_inches(\n",
        "    shape[0] * 1.5 * plt.gcf().get_size_inches()[1], \n",
        "    shape[1] * 1.5 * plt.gcf().get_size_inches()[1])\n",
        "  \n",
        "\n",
        "def run_minimization_while(energy_fn, R_init, shift, max_grad_thresh = 1e-12, max_num_steps=1000000, **kwargs):\n",
        "  init,apply=minimize.fire_descent(jit(energy_fn), shift, **kwargs)\n",
        "  apply = jit(apply)\n",
        "\n",
        "  @jit\n",
        "  def get_maxgrad(state):\n",
        "    return jnp.amax(jnp.abs(state.force))\n",
        "\n",
        "  @jit\n",
        "  def cond_fn(val):\n",
        "    state, i = val\n",
        "    return jnp.logical_and(get_maxgrad(state) > max_grad_thresh, i<max_num_steps)\n",
        "\n",
        "  @jit\n",
        "  def body_fn(val):\n",
        "    state, i = val\n",
        "    return apply(state), i+1\n",
        "\n",
        "  state = init(R_init)\n",
        "  state, num_iterations = lax.while_loop(cond_fn, body_fn, (state, 0))\n",
        "\n",
        "  return state.position, get_maxgrad(state), num_iterations\n",
        "\n",
        "def run_minimization_while_neighbor_list(energy_fn, neighbor_fn, R_init, shift,  \n",
        "                                         max_grad_thresh = 1e-12, max_num_steps = 1000000, \n",
        "                                         step_inc = 1000, verbose = False, **kwargs):\n",
        "  nbrs = neighbor_fn(R_init)\n",
        "\n",
        "  init,apply=minimize.fire_descent(jit(energy_fn), shift, **kwargs)\n",
        "  apply = jit(apply)\n",
        "\n",
        "  @jit\n",
        "  def get_maxgrad(state):\n",
        "    return jnp.amax(jnp.abs(state.force))\n",
        "\n",
        "  @jit\n",
        "  def body_fn(state_nbrs, t):\n",
        "    state, nbrs = state_nbrs\n",
        "    nbrs = neighbor_fn(state.position, nbrs)\n",
        "    state = apply(state, neighbor=nbrs)\n",
        "    return (state, nbrs), 0\n",
        "  \n",
        "  state = init(R_init, neighbor=nbrs)\n",
        "  \n",
        "  step = 0\n",
        "  while step < max_num_steps:\n",
        "    if verbose:\n",
        "      print('minimization step {}'.format(step))\n",
        "    rtn_state, _ = lax.scan(body_fn, (state, nbrs), step + jnp.arange(step_inc))\n",
        "    new_state, nbrs = rtn_state\n",
        "    # If the neighbor list overflowed, rebuild it and repeat part of \n",
        "    # the simulation.\n",
        "    if nbrs.did_buffer_overflow:\n",
        "      print('Buffer overflow.')\n",
        "      nbrs = neighbor_fn(state.position)\n",
        "    else:\n",
        "      state = new_state\n",
        "      step += step_inc\n",
        "      if get_maxgrad(state) <= max_grad_thresh:\n",
        "        break\n",
        "\n",
        "  if verbose:\n",
        "    print('successfully finished {} steps.'.format(step*step_inc))\n",
        "\n",
        "  return state.position, get_maxgrad(state), nbrs, step\n",
        "\n",
        "def run_minimization_scan(energy_fn, R_init, shift, num_steps=5000, **kwargs):\n",
        "  init,apply=minimize.fire_descent(jit(energy_fn), shift, **kwargs)\n",
        "  apply = jit(apply)\n",
        "\n",
        "  @jit\n",
        "  def scan_fn(state, i):\n",
        "    return apply(state), 0.\n",
        "\n",
        "  state = init(R_init)\n",
        "  state, _ = lax.scan(scan_fn,state,jnp.arange(num_steps))\n",
        "\n",
        "  return state.position, jnp.amax(jnp.abs(state.force))\n",
        "  \n",
        "def stress_tensor(R, displacement, potential, box, **kwargs):\n",
        "  volume = box.diagonal().prod()\n",
        "  dR = space.map_product(displacement)(R,R)\n",
        "  dr = space.distance(dR)\n",
        "\n",
        "  kwargs = smap._kwargs_to_parameters(None, **kwargs)\n",
        "  dUdr = vmap(vmap(grad(potential)))(dr, **kwargs)\n",
        "  temp = vmap(vmap(lambda s,m: s*m))(smap._diagonal_mask(dUdr/dr), jnp.einsum('abi,abj->abij', dR, dR))\n",
        "  return util.high_precision_sum(temp, axis=(0,1)) * f32(0.5) / volume\n",
        "\n",
        "key = random.PRNGKey(0)\n"
      ],
      "execution_count": null,
      "outputs": []
    },
    {
      "cell_type": "markdown",
      "metadata": {
        "id": "G843BQDFBZ7z"
      },
      "source": [
        "#Linear elasticity in athermal systems\n",
        "\n",
        "## The elastic modulus tensor\n",
        "\n",
        "An global affine deformation is given to lowest order by a symmetric strain tensor $\\epsilon$, which transforms any vector $r$ according to\n",
        "\\begin{equation}\n",
        "r \\rightarrow (1 + \\epsilon) \\cdot r. \n",
        "\\end{equation}\n",
        "Note that in $d$ dimensions, the strain tensor has $d(d + 1)/2$ independent elements. Now, when a mechanically stable system (i.e. a system at a local energy minimum where there is zero net force on every particle) is subject to an affine deformation, it usually does not remain in mechanical equilibrium. Therefore, there is a secondary, nonaffine response that returns the system to mechanical equilibrium, though usually at a different energy than the undeformed state. \n",
        "\n",
        "The change of energy can be written to quadratic order as\n",
        "\\begin{equation}\n",
        "\\frac{ \\Delta U}{V^0} = \\sigma^0_{ij}\\epsilon_{ji} + \\frac 12 C_{ijkl} \\epsilon_{ij} \\epsilon_{kl} + O\\left( \\epsilon^3 \\right)\n",
        "\\end{equation}\n",
        "where $C_{ijkl}$ is the $d × d × d × d$ elastic modulus tensor, $\\sigma^0$ is the $d × d$ symmetric stress tensor describing residual stresses in the initial state, and $V^0$ is the volume of the initial state. The symmetries of \u0005$\\epsilon_{ij}$ imply the following: \n",
        "\\begin{equation}\n",
        "C_{ijkl} = C_{jikl} = C_{ijlk} = C_{klij}\n",
        "\\end{equation}\n",
        "When no further symmetries are assumed, the number of independent elastic constants becomes $\\frac 18 d(d + 1)(d^2 + d + 2)$, which is 6 in two dimensions and 21 in three dimensions.\n",
        "\n",
        "\n",
        "##Linear response to an external force\n",
        "\n",
        "Consider a set of $N$ particles in $d$ dimensions with positions $R_0$. Using $u \\equiv R - R_0$ and assuming fixed boundary conditions, we can expand the energy about $R_0$:\n",
        "\\begin{equation}\n",
        "U = U^0 - F^0 u + \\frac 12 u H^0 u + O(u^3),\n",
        "\\end{equation}\n",
        "where $U^0$ is the energy at $R_0$, $F^0$ is the force, $F^0_\\mu \\equiv \\left. \\frac {\\partial U}{\\partial u_\\mu} \\right |_{u=0}$, and $H^0$ is the Hessian, $H^0 \\equiv \\left. \\frac{ \\partial^2 U}{\\partial u_\\mu \\partial u_\\nu}\\right|_{u=0}$. \n",
        "Note that here we are expanding in terms of the particle positions, where as above we were expanding in the global strain degrees of freedom.\n",
        "If we assume that $R_0$ corresponds to a local energy minimum, then $F^0=0$. Dropping higher order terms, we have a system of coupled harmonic oscillators given by\n",
        "\\begin{equation}\n",
        "\\Delta U \\equiv U - U^0 = \\frac 12 u H^0 u.\n",
        "\\end{equation}\n",
        "This is independent of the form or details of $U$. \n",
        "\n",
        "Hooke's law for this system gives the net force $f$ as a result of displacing the particles by $u$: \n",
        "\\begin{equation}\n",
        "f = -H^0 u.\n",
        "\\end{equation}\n",
        "Thus, if an *external* force $f_\\mathrm{ext}$ is applied, the particles will respond so that the total force is zero, i.e. $f = -f_\\mathrm{ext}$. This response is obtained by solving for $u$:\n",
        "\\begin{equation}\n",
        "u = (H^0)^{-1} f_\\mathrm{ext}.\n",
        "\\end{equation}\n",
        "\n",
        "\n",
        "## Response to an affine strain\n",
        "\n",
        "Now consider a strain tensor $\\epsilon = \\tilde \\epsilon \\gamma$, where $\\gamma$ is a scalar and will be used to explicitly take the limit of small strain for fixed $\\tilde \\epsilon$. Importantly, the strain tensor represents a deformation of the underlying space that the particles live in and thus is a degree of freedom that is independent of the $Nd$ particle degrees of freedom. Therefore, knowing the particle positions $R$ is not sufficient to describe the energy, we also need to know $\\gamma$ to specify the correct boundary conditions:\n",
        "\\begin{equation}\t\n",
        "U = U(R, \\gamma).\n",
        "\\end{equation}\n",
        "\n",
        "We now have a system with $Nd+1$ variables $\\{R, \\gamma\\}$ that, like before, form a set of coupled harmonic oscillators. We can describe this using the so-called \"generalized Hessian\" matrix of second derivatives of the energy with respect to both $R$ and $\\gamma$. Specifically, Hooke's law reads \n",
        "\\begin{equation}\n",
        "  \\left( \\begin{array}{ ccccc|c}\n",
        "\t&&&&&\\\\\n",
        "\t&&H^0 &&& -\\Xi \\\\\n",
        "\t&&&&& \\\\ \\hline\n",
        "\t&&-\\Xi^T &&&\\frac{\\partial ^2U}{\\partial \\gamma^2}\n",
        "\t\\end{array}\\right) \n",
        "  \\left( \\begin{array}{ c}\n",
        "\t\\\\\n",
        "\tu \\\\\n",
        "\t\\\\ \\hline\n",
        "\t\\gamma\n",
        "\t\\end{array}\\right) \n",
        "  =\n",
        "  \\left( \\begin{array}{ c}\n",
        "\t\\\\\n",
        "\t0 \\\\\n",
        "\t\\\\ \\hline\n",
        "\t\\tilde \\sigma\n",
        "\t\\end{array}\\right),\n",
        "\\end{equation}\n",
        "\n",
        "where $u = R - R_0$ is the displacement of every particle, $\\Xi = -\\frac{ \\partial^2 U}{\\partial R \\partial \\gamma}$, and $\\tilde \\sigma$ is the induced stress caused by the deformation. (If there is prestress in the system, i.e. $\\sigma^0 = \\frac{\\partial U}{\\partial \\gamma} \\neq 0$, the total stress is $\\sigma = \\sigma^0 + \\tilde \\sigma$.) In this equation, $\\gamma$ is held fixed and the zero in the top of the right-hand-side imposes force balance after the deformation and resulting non-affine displacement of every particle. The non-affine displacement itself, $u$, and the induced stress $\\sigma$, are both unknown but can be solved for. First, the non-affine response is \n",
        "\\begin{equation}\n",
        "u = (H^0)^{-1} \\Xi \\; \\gamma,\n",
        "\\end{equation}\n",
        "where we note that in the limit of small $\\gamma$, the force induced on every particle due to the affine deformation is $\\Xi \\; \\gamma$. Second, the induced stress is\n",
        "\\begin{equation}\n",
        "\\tilde \\sigma = \\frac{\\partial ^2U}{\\partial \\gamma^2} \\gamma - \\Xi^T u = \\left(\\frac{\\partial ^2U}{\\partial \\gamma^2} - \\Xi^T (H^0)^{-1} \\Xi  \\right) \\gamma.\n",
        "\\end{equation}\n",
        "\n",
        "Similarly, the change in energy is \n",
        "\\begin{equation}\n",
        "\\frac{\\Delta U}{V^0} = \\sigma^0 \\gamma + \\frac 1{2V^0} \\left(\\frac{\\partial ^2U}{\\partial \\gamma^2} - \\Xi^T (H^0)^{-1} \\Xi  \\right) \\gamma^2,\n",
        "\\end{equation}\n",
        "where $\\sigma^0$ is the prestress in the system per unit volume. Comparing this to the above definition of the the elastic modulus tensor, we see that the elastic constant associated with the deformation $\\tilde \\epsilon$ is \n",
        "\\begin{equation}\n",
        "C(\\tilde \\epsilon) = \\frac 1{V^0} \\left( \\frac{\\partial^2 U}{\\partial \\gamma^2} - \\Xi^T (H^0)^{-1} \\Xi \\right).\n",
        "\\end{equation}\n",
        "\n",
        "$C(\\tilde \\epsilon)$ is related to $C_{ijkl}$ by summing $C(\\tilde \\epsilon) = C_{ijkl}\\tilde \\epsilon_{ij} \\tilde \\epsilon_{kl}$. So, if $\\tilde \\epsilon_{ij} = \\delta_{0i}\\delta_{0j}$, then $C_{0000} = C(\\tilde \\epsilon)$.\n",
        "\n",
        "The internal code in `jax_md.elasticity` repeats this calculation for different $\\tilde \\epsilon$ to back out the different independent elastic constants. "
      ]
    },
    {
      "cell_type": "markdown",
      "metadata": {
        "id": "I2CGpXh_oJn1"
      },
      "source": [
        "#First example\n"
      ]
    },
    {
      "cell_type": "markdown",
      "metadata": {
        "id": "vqpinbjgoPcq"
      },
      "source": [
        "As a first example, let's consider a 3d system of 128 soft spheres. The elastic modulus tensor is only defined for systems that are at a local energy minimum, so we start my minimizing the energy. **Importantly, note that the `displacement` and `shift` functions are defined using `space.periodic_general` with `fractional_coordinates=True`.** While this is not necessary for the energy minimization, it *is* necessary for the elasticity calculation. "
      ]
    },
    {
      "cell_type": "code",
      "metadata": {
        "id": "Vj9Jug6VX6CU"
      },
      "source": [
        "N = 128\n",
        "dimension = 3\n",
        "\n",
        "#box_size = box_size_at_packing_fraction_3d(0.7, jnp.full((N,),1.0))\n",
        "box_size = quantity.box_size_at_number_density(N, 1.4, dimension)\n",
        "box = box_size * jnp.eye(dimension)\n",
        "displacement, shift = space.periodic_general(box, fractional_coordinates=True)\n",
        "\n",
        "energy_fn = energy.soft_sphere_pair(displacement, sigma=1.0)\n",
        "\n",
        "key, split = random.split(key)\n",
        "R_init = random.uniform(split, (N,dimension), minval=0.0, maxval=1.0, dtype=f64)\n",
        "\n",
        "\n",
        "R, max_grad, niters = run_minimization_while(energy_fn, R_init, shift)\n",
        "print('Minimized the energy in {} minimization steps and reached a final \\\n",
        "maximum gradient of {}'.format(niters, max_grad))"
      ],
      "execution_count": null,
      "outputs": []
    },
    {
      "cell_type": "markdown",
      "metadata": {
        "id": "3fDHQPOJpCpR"
      },
      "source": [
        "We can now calculate the elastic modulus tensor"
      ]
    },
    {
      "cell_type": "code",
      "metadata": {
        "id": "ZNhv06zemnq7"
      },
      "source": [
        "EMT_fn = jit(elasticity.AthermalElasticModulusTensor(energy_fn))\n",
        "C = EMT_fn(R,box)"
      ],
      "execution_count": null,
      "outputs": []
    },
    {
      "cell_type": "markdown",
      "metadata": {
        "id": "0yNSd35ym2gt"
      },
      "source": [
        "The elastic modulus tensor gives a quantitative prediction for how the energy should change if we deform the system according to a strain tensor\n",
        "\\begin{equation}\n",
        "\\frac{ \\Delta U}{V^0} = \\sigma^0\\epsilon + \\frac 12 \\epsilon C  \\epsilon + O\\left(\\epsilon^3\\right)\n",
        "\\end{equation}\n",
        "To test this, we define $\\epsilon = \\tilde \\epsilon \\gamma$ for a randomly chosen strain tensor $\\tilde \\epsilon$ and for $\\gamma << 1$. Ignoring terms of order $\\gamma^3$ and higher, we have\n",
        "\\begin{equation}\n",
        "\\frac{ \\Delta U}{V^0} - \\sigma^0\\epsilon = \\left[\\frac 12 \\tilde \\epsilon C  \\tilde \\epsilon \\right] \\gamma^2\n",
        "\\end{equation}\n",
        "Thus, we can test our calculation of $C$ by plotting $\\frac{ \\Delta U}{V^0} - \\sigma^0\\epsilon$ as a function of $\\gamma$ for our randomly chosen $\\tilde \\epsilon$ and comparing it to the line $\\left[\\frac 12 \\tilde \\epsilon C  \\tilde \\epsilon \\right] \\gamma^2$. \n",
        "\n",
        "First, generate a random $\\tilde \\epsilon$ and calculate $U$ for different $\\gamma$. "
      ]
    },
    {
      "cell_type": "code",
      "metadata": {
        "id": "sF6B9B3tm2gt"
      },
      "source": [
        "key, split = random.split(key)\n",
        "#Pick a random (symmetric) strain tensor\n",
        "strain_tensor = random.uniform(split, (dimension,dimension), minval=-1, maxval=1, dtype=f64)\n",
        "strain_tensor = (strain_tensor + strain_tensor.T) / 2.0\n",
        "\n",
        "#define a function to calculate the energy at a given strain\n",
        "def get_energy_at_strain(gamma, strain_tensor, R_init, box):\n",
        "  new_box = jnp.matmul(jnp.eye(strain_tensor.shape[0]) + gamma * strain_tensor, box)\n",
        "  displacement, shift = space.periodic_general(new_box, fractional_coordinates=True)\n",
        "  energy_fn = energy.soft_sphere_pair(displacement, sigma=1.0)\n",
        "  R_final, _, _ = run_minimization_while(energy_fn, R_init, shift)\n",
        "  return energy_fn(R_final)\n",
        "\n",
        "gammas = jnp.logspace(-7,-4,50)\n",
        "Us = vmap(get_energy_at_strain, in_axes=(0,None,None,None))(gammas, strain_tensor, R, box)"
      ],
      "execution_count": null,
      "outputs": []
    },
    {
      "cell_type": "markdown",
      "metadata": {
        "id": "rrdW64I5m2gu"
      },
      "source": [
        "Plot $\\frac{ \\Delta U}{V^0} - \\sigma^0\\epsilon$ and $\\left[\\frac 12 \\tilde \\epsilon C  \\tilde \\epsilon \\right] \\gamma^2$ as functinos of $\\gamma$. While there may be disagreements for very small $\\gamma$ due to numerical precision or at large $\\gamma$ due to higher-order terms becoming relevant, there should be a region of quantitative agreement."
      ]
    },
    {
      "cell_type": "code",
      "metadata": {
        "id": "dmQknH3Am2gu"
      },
      "source": [
        "U_0 = energy_fn(R)\n",
        "stress_0 = stress_tensor(R, displacement, energy.soft_sphere, box)\n",
        "V_0 = box.diagonal().prod()\n",
        "\n",
        "#Plot \\Delta E/V - sigma*epsilon\n",
        "y1 = (Us - U_0)/V_0 - gammas * jnp.einsum('ij,ji->',stress_0,strain_tensor)\n",
        "plt.plot(jnp.abs(gammas), y1, lw=3, label=r'$\\Delta U/V^0 - \\sigma^0 \\epsilon$')\n",
        "\n",
        "#Plot 0.5 * epsilon*C*epsilon\n",
        "y2 = 0.5 * jnp.einsum('ij,ijkl,kl->',strain_tensor, C, strain_tensor) * gammas**2\n",
        "plt.plot(jnp.abs(gammas), y2, ls='--', lw=3, label=r'$(1/2) \\epsilon C \\epsilon$')\n",
        "\n",
        "plt.xscale('log')\n",
        "plt.yscale('log')\n",
        "plt.legend()\n",
        "format_plot('$\\gamma$','')\n",
        "finalize_plot()"
      ],
      "execution_count": null,
      "outputs": []
    },
    {
      "cell_type": "markdown",
      "metadata": {
        "id": "4A8tolWEWrWG"
      },
      "source": [
        "To test the accuracy of this agreement, we first define:\n",
        "\\begin{equation}\n",
        "T(\\gamma) = \\frac{ \\Delta U}{V^0} - \\sigma^0\\epsilon - \\frac 12 \\epsilon C  \\epsilon \\sim O\\left(\\gamma^3\\right)\n",
        "\\end{equation}\n",
        "which should be proportional to $\\gamma^3$ for small $\\gamma$. This is a prediction of scaling only, so we plot a line proportional to $\\gamma^3$ to compare the slopes."
      ]
    },
    {
      "cell_type": "code",
      "metadata": {
        "id": "XsP1pAdym2gu"
      },
      "source": [
        "#plot the difference, which should scales as gamma**3\n",
        "plt.plot(jnp.abs(gammas), jnp.abs(y1-y2), label=r'$T(\\gamma)$')\n",
        "#plot gamma**3 for reference\n",
        "plt.plot(jnp.abs(gammas), jnp.abs(gammas**3), 'black', label=r'slope = $\\gamma^3$ (for reference)')\n",
        "\n",
        "plt.xscale('log')\n",
        "plt.yscale('log')\n",
        "plt.legend()\n",
        "format_plot('$\\gamma$','')#$\\Delta U/V^0 - \\sigma^0 \\epsilon - (1/2) \\epsilon C \\epsilon$')\n",
        "finalize_plot()"
      ],
      "execution_count": null,
      "outputs": []
    },
    {
      "cell_type": "markdown",
      "metadata": {
        "id": "u7P_x42IbOjh"
      },
      "source": [
        "Save `C` for later testing."
      ]
    },
    {
      "cell_type": "code",
      "metadata": {
        "id": "uOuUSb5abMQU"
      },
      "source": [
        "C_3d = C"
      ],
      "execution_count": null,
      "outputs": []
    },
    {
      "cell_type": "markdown",
      "metadata": {
        "id": "-aYUGyGfXB7L"
      },
      "source": [
        "#Example with neighbor lists"
      ]
    },
    {
      "cell_type": "markdown",
      "metadata": {
        "id": "oRE8khNHaNEZ"
      },
      "source": [
        "As a second example, consider a much larger systems that is implemented using neighbor lists."
      ]
    },
    {
      "cell_type": "code",
      "metadata": {
        "id": "Js-SZSq_XLe3"
      },
      "source": [
        "# def box_size_at_packing_fraction_3d(phi,diameters):\n",
        "#   Vspheres = jnp.sum(vmap(lambda d: (4./3.)*jnp.pi*(d/2)**3)(diameters))\n",
        "#   return (Vspheres/phi)**(1./3.)\n",
        "\n",
        "N = 5000\n",
        "dimension = 2\n",
        "\n",
        "box_size = quantity.box_size_at_number_density(N, 1.3, dimension)\n",
        "box = box_size * jnp.eye(dimension)\n",
        "displacement, shift = space.periodic_general(box, fractional_coordinates=True)\n",
        "#displacement, shift = space.periodic(box_size)\n",
        "\n",
        "neighbor_fn, energy_fn = energy.soft_sphere_neighbor_list(\n",
        "    displacement, box_size, sigma=1.0, dr_threshold = 0.1, \n",
        "    fractional_coordinates = True)\n",
        "\n",
        "\n",
        "key, split = random.split(key)\n",
        "R_init = random.uniform(split, (N,dimension), minval=0.0, maxval=1.0, dtype=f64) \n",
        "\n",
        "R, max_grad, nbrs, niters = run_minimization_while_neighbor_list(energy_fn, neighbor_fn, R_init, shift)\n",
        "print('Minimized the energy in {} minimization steps and reached a final \\\n",
        "maximum gradient of {}'.format(niters, max_grad))"
      ],
      "execution_count": null,
      "outputs": []
    },
    {
      "cell_type": "markdown",
      "metadata": {
        "id": "deztGVVbaabY"
      },
      "source": [
        "We have to pass the neighbor list to `EMT_fn`."
      ]
    },
    {
      "cell_type": "code",
      "metadata": {
        "id": "9nrB5kFdXLe4"
      },
      "source": [
        "EMT_fn = jit(elasticity.AthermalElasticModulusTensor(energy_fn))\n",
        "C = EMT_fn(R,box,neighbor=nbrs)"
      ],
      "execution_count": null,
      "outputs": []
    },
    {
      "cell_type": "markdown",
      "metadata": {
        "id": "Pii0IZbTax9d"
      },
      "source": [
        "We can time the calculation of the compiled function."
      ]
    },
    {
      "cell_type": "code",
      "metadata": {
        "id": "SlmS8jKdZo3L"
      },
      "source": [
        "%timeit EMT_fn(R,box,neighbor=nbrs)"
      ],
      "execution_count": null,
      "outputs": []
    },
    {
      "cell_type": "markdown",
      "metadata": {
        "id": "NUs4WJKGbjFb"
      },
      "source": [
        "Repeat the same tests as above. NOTE: this may take a few minutes. "
      ]
    },
    {
      "cell_type": "code",
      "metadata": {
        "id": "i59zcQyVbjFb"
      },
      "source": [
        "key, split = random.split(key)\n",
        "#Play around with strain_tensor, but it should always be symmetric\n",
        "strain_tensor = random.uniform(split, (dimension,dimension), minval=-1, maxval=1, dtype=f64)\n",
        "strain_tensor = (strain_tensor + strain_tensor.T) / 2.0\n",
        "\n",
        "def get_energy_at_strain(gamma, strain_tensor, R_init, box):\n",
        "  new_box = jnp.matmul(jnp.eye(strain_tensor.shape[0]) + gamma * strain_tensor, box)\n",
        "  displacement, shift = space.periodic_general(new_box, fractional_coordinates=True)\n",
        "  neighbor_fn, energy_fn = energy.soft_sphere_neighbor_list(\n",
        "    displacement, box_size, sigma=1.0, dr_threshold = 0.1, \n",
        "    fractional_coordinates = True)\n",
        "  R_final, _, nbrs, _ = run_minimization_while_neighbor_list(energy_fn, neighbor_fn, R_init, shift)\n",
        "  return energy_fn(R_final, neighbor=nbrs)\n",
        "\n",
        "gammas = jnp.logspace(-7,-4,20)\n",
        "Us = jnp.array([ get_energy_at_strain(gamma, strain_tensor, R, box) for gamma in gammas])"
      ],
      "execution_count": null,
      "outputs": []
    },
    {
      "cell_type": "code",
      "metadata": {
        "id": "zKmA6ufub9ej"
      },
      "source": [
        "U_0 = energy_fn(R, neighbor=nbrs)\n",
        "stress_0 = stress_tensor(R, displacement, energy.soft_sphere, box)\n",
        "V_0 = box.diagonal().prod()\n",
        "\n",
        "#Plot \\Delta E/V - sigma*epsilon\n",
        "y1 = (Us - U_0)/V_0 - gammas * jnp.einsum('ij,ji->',stress_0,strain_tensor)\n",
        "plt.plot(jnp.abs(gammas), y1, lw=3, label=r'$\\Delta U/V^0 - \\sigma^0 \\epsilon$')\n",
        "\n",
        "#Plot 0.5 * epsilon*C*epsilon\n",
        "y2 = 0.5 * jnp.einsum('ij,ijkl,kl->',strain_tensor, C, strain_tensor) * gammas**2\n",
        "plt.plot(jnp.abs(gammas), y2, ls='--', lw=3, label=r'$(1/2) \\epsilon C \\epsilon$')\n",
        "\n",
        "plt.xscale('log')\n",
        "plt.yscale('log')\n",
        "plt.legend()\n",
        "format_plot('$\\gamma$','')\n",
        "finalize_plot()"
      ],
      "execution_count": null,
      "outputs": []
    },
    {
      "cell_type": "code",
      "metadata": {
        "id": "IFm9NDnlb9eu"
      },
      "source": [
        "#plot the difference, which should scales as gamma**3\n",
        "plt.plot(jnp.abs(gammas), jnp.abs(y1-y2), label=r'$T(\\gamma)$')\n",
        "#plot gamma**3 for reference\n",
        "plt.plot(jnp.abs(gammas), jnp.abs(gammas**3), 'black', label=r'slope = $\\gamma^3$ (for reference)')\n",
        "\n",
        "plt.xscale('log')\n",
        "plt.yscale('log')\n",
        "plt.legend()\n",
        "format_plot('$\\gamma$','')#$\\Delta U/V^0 - \\sigma^0 \\epsilon - (1/2) \\epsilon C \\epsilon$')\n",
        "finalize_plot()"
      ],
      "execution_count": null,
      "outputs": []
    },
    {
      "cell_type": "markdown",
      "metadata": {
        "id": "OTX4lbZxcwiR"
      },
      "source": [
        "Save `C` for later testing."
      ]
    },
    {
      "cell_type": "code",
      "metadata": {
        "id": "i7qPHWPdcqI_"
      },
      "source": [
        "C_2d = C"
      ],
      "execution_count": null,
      "outputs": []
    },
    {
      "cell_type": "markdown",
      "metadata": {
        "id": "FDbvyKBRc3gG"
      },
      "source": [
        "#Mandel notation"
      ]
    },
    {
      "cell_type": "markdown",
      "metadata": {
        "id": "47eZOiJ0dQwv"
      },
      "source": [
        "Mandel notation is a way to represent symmetric second-rank tensors and fourth-rank tensors with so-called \"minor symmetries\", i.e. $T_{ijkl} = T_{ijlk} = T_{jilk}$. The idea is to map pairs of indices so that $(i,i) \\rightarrow i$ and $(i,j) \\rightarrow K - i - j$ for $i\\neq j$, where $K = d(d+1)/2$ is the number of independent pairs $(i,j)$ for tensors with $d$ elements along each axis. Thus, second-rank tensors become first-rank tensors, and fourth-rank tensors become second-rank tensors, according to:\n",
        "\n",
        "\\begin{align}\n",
        "M_{m(i,j)} &= T_{ij} w(i,j) \\\\\n",
        "M_{m(i,j),m(k,l)} &= T_{ijkl} w(i,j) w(k,l).\n",
        "\\end{align}\n",
        "\n",
        "Here, $m(i,j)$ is the mapping function described above, and w(i,j) is a weight that preserves summation rules and is given by \n",
        "\\begin{align}\n",
        "w(i,j) = \\delta_{ij} + \\sqrt{2} (\\delta_{ij}-1).\n",
        "\\end{align}\n",
        "\n",
        "We can convert strain tensors, stress tensors, and elastic modulus tensors to and from Mandel notation using the functions `elasticity.tensor_to_mandel` and `elasticity.mandel_to_tensor`. "
      ]
    },
    {
      "cell_type": "markdown",
      "metadata": {
        "id": "74mi2rRary1x"
      },
      "source": [
        "First, lets copy one of the previously calculated elastic modulus tensors and define a random strain tensor."
      ]
    },
    {
      "cell_type": "code",
      "metadata": {
        "id": "_Q2ADqqTr9BW"
      },
      "source": [
        "  dimension = 3 #This can be 2 or 3 depending on which of the above solutions has been calculated\n",
        "  if dimension == 2:\n",
        "    C = C_2d\n",
        "  else:\n",
        "    C = C_3d\n",
        "key, split = random.split(key)\n",
        "e = random.uniform(key, (dimension,dimension), minval=-1, maxval=1, dtype=f64)\n",
        "e = (e + e.T)/2."
      ],
      "execution_count": null,
      "outputs": []
    },
    {
      "cell_type": "markdown",
      "metadata": {
        "id": "4fWFbBRHsRDc"
      },
      "source": [
        "Convert `e` and `C` to Mental notation"
      ]
    },
    {
      "cell_type": "code",
      "metadata": {
        "id": "A2FdUi2VsVyS"
      },
      "source": [
        "e_m = jit(elasticity.tensor_to_mandel)(e)\n",
        "C_m = jit(elasticity.tensor_to_mandel)(C)\n",
        "print(e_m)\n",
        "print(C_m)"
      ],
      "execution_count": null,
      "outputs": []
    },
    {
      "cell_type": "markdown",
      "metadata": {
        "id": "cY0tAkOSsr4z"
      },
      "source": [
        "Using \"bar\" notation to represent Mandel vectors and matrices, we have\n",
        "\\begin{equation}\n",
        "\\frac{ \\Delta U}{V^0} = \\bar \\sigma_i^0 \\bar\\epsilon_i + \\frac 12 \\bar \\epsilon_i \\bar C_{ij} \\bar\\epsilon_j + O\\left(\\bar \\epsilon^3\\right)\n",
        "\\end{equation}\n",
        "We can explicity test that the sums are equivalent to the sums involving the original tensors"
      ]
    },
    {
      "cell_type": "code",
      "metadata": {
        "id": "_Q01qyWbt6tD"
      },
      "source": [
        "sum_m = jnp.einsum('i,ij,j->',e_m, C_m, e_m)\n",
        "sum_t = jnp.einsum('ij,ijkl,kl->',e, C, e)\n",
        "print('Relative error is {}, which should be very close to 0'.format((sum_t-sum_m)/sum_t))"
      ],
      "execution_count": null,
      "outputs": []
    },
    {
      "cell_type": "markdown",
      "metadata": {
        "id": "z8ATImecuLlc"
      },
      "source": [
        "Finally, we can convert back to the full tensors and check that they are unchanged."
      ]
    },
    {
      "cell_type": "code",
      "metadata": {
        "id": "iXACa-5LuSZQ"
      },
      "source": [
        "C_new = jit(elasticity.mandel_to_tensor)(C_m)\n",
        "print('Max error in C is {}, which should be very close to 0.'.format(jnp.max(jnp.abs(C-C_new))))\n",
        "\n",
        "e_new = jit(elasticity.mandel_to_tensor)(e_m)\n",
        "print('Max error in e is {}, which should be very close to 0.'.format(jnp.max(jnp.abs(e-e_new))))"
      ],
      "execution_count": null,
      "outputs": []
    },
    {
      "cell_type": "markdown",
      "metadata": {
        "id": "TJZxZJ8HuvX9"
      },
      "source": [
        "# Isotropic elastic constants\n"
      ]
    },
    {
      "cell_type": "markdown",
      "metadata": {
        "id": "KnaNTFv-BOnJ"
      },
      "source": [
        "The calculation of the elastic modulus tensor does not make any assumptions about the underlying symmetries in the material. However, for isotropic systems, only two constants are needed to completely describe the elastic behavior. These are often taken to be the bulk modulus, $B$, and the shear modulus, $G$, or the Young's modulus, $E$, and the Poisson's ratio, $\\nu$. The function `elasticity.extract_isotropic_moduli` extracts these values, as well as the longitudinal modulus, $M$, from an elastic modulus tensor. \n",
        "\n",
        "Importantly, since there is not guarantee that `C` is calculated from a truely isotropic systems, these are \"orientation-averaged\" values. For example, there are many directions in which you can shear a system, and the shear modulus that is returned represents and average over all these orientations. This can be an effective way to average over small fluctuations in an \"almost isotropic\" system, but the values lose their typical meaning when the systems is highly anisotropic."
      ]
    },
    {
      "cell_type": "code",
      "metadata": {
        "id": "bNSEpYgRvIVV"
      },
      "source": [
        "elasticity.extract_isotropic_moduli(C)"
      ],
      "execution_count": null,
      "outputs": []
    },
    {
      "cell_type": "markdown",
      "metadata": {
        "id": "Lj7R9GiTvPYX"
      },
      "source": [
        "# Gradients"
      ]
    },
    {
      "cell_type": "markdown",
      "metadata": {
        "id": "ul9jimRTErq6"
      },
      "source": [
        "The calculation of the elastic modulus tensor is fully differentiable:"
      ]
    },
    {
      "cell_type": "code",
      "metadata": {
        "id": "c1KyRCgbvROa"
      },
      "source": [
        "def setup(N,dimension,key):\n",
        "  box_size = quantity.box_size_at_number_density(N, 1.4, dimension)\n",
        "  box = box_size * jnp.eye(dimension)\n",
        "  displacement, shift = space.periodic_general(box, fractional_coordinates=True)\n",
        "  R_init = random.uniform(key, (N,dimension), minval=0.0, maxval=1.0, dtype=f64)\n",
        "\n",
        "  def run(sigma):\n",
        "    energy_fn = energy.soft_sphere_pair(displacement, sigma=sigma)\n",
        "    R, max_grad = run_minimization_scan(energy_fn, R_init, shift, num_steps=1000)\n",
        "    EMT_fn = jit(elasticity.AthermalElasticModulusTensor(energy_fn))\n",
        "    C = EMT_fn(R,box)\n",
        "    return elasticity.extract_isotropic_moduli(C)['G']\n",
        "  return run\n",
        "\n",
        "key, split = random.split(key)\n",
        "N = 50\n",
        "dimension = 2\n",
        "run = setup(N, dimension, split)"
      ],
      "execution_count": null,
      "outputs": []
    },
    {
      "cell_type": "code",
      "metadata": {
        "id": "4Le-PsexwdCJ"
      },
      "source": [
        "sigma = jnp.linspace(1.0,1.4,N)\n",
        "print(run(sigma))\n",
        "print(grad(run)(sigma))"
      ],
      "execution_count": null,
      "outputs": []
    }
  ]
}